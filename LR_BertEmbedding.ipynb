{
 "cells": [
  {
   "cell_type": "markdown",
   "metadata": {},
   "source": [
    "# Testing baseline model with BERT Embedding"
   ]
  },
  {
   "cell_type": "markdown",
   "metadata": {},
   "source": [
    "## Load data"
   ]
  },
  {
   "cell_type": "code",
   "execution_count": 1,
   "metadata": {},
   "outputs": [],
   "source": [
    "import pandas as pd\n",
    "df = pd.read_csv('./data/train.csv')\n",
    "X = df['text']\n",
    "Y = df['suicide']"
   ]
  },
  {
   "cell_type": "markdown",
   "metadata": {},
   "source": [
    "## Pre-processing\n",
    "\n",
    "### WordVectorization with Bert Embedding"
   ]
  },
  {
   "cell_type": "code",
   "execution_count": 2,
   "metadata": {},
   "outputs": [],
   "source": [
    "X = [sen for sen in X]\n",
    "\n",
    "labels = Y.values"
   ]
  },
  {
   "cell_type": "markdown",
   "metadata": {},
   "source": [
    "### Tokenize"
   ]
  },
  {
   "cell_type": "code",
   "execution_count": 3,
   "metadata": {},
   "outputs": [
    {
     "data": {
      "text/plain": [
       "BertTokenizer(name_or_path='./pretrained/bert-base-uncased', vocab_size=30522, model_max_length=512, is_fast=False, padding_side='right', truncation_side='right', special_tokens={'unk_token': '[UNK]', 'sep_token': '[SEP]', 'pad_token': '[PAD]', 'cls_token': '[CLS]', 'mask_token': '[MASK]'}, clean_up_tokenization_spaces=True),  added_tokens_decoder={\n",
       "\t0: AddedToken(\"[PAD]\", rstrip=False, lstrip=False, single_word=False, normalized=False, special=True),\n",
       "\t100: AddedToken(\"[UNK]\", rstrip=False, lstrip=False, single_word=False, normalized=False, special=True),\n",
       "\t101: AddedToken(\"[CLS]\", rstrip=False, lstrip=False, single_word=False, normalized=False, special=True),\n",
       "\t102: AddedToken(\"[SEP]\", rstrip=False, lstrip=False, single_word=False, normalized=False, special=True),\n",
       "\t103: AddedToken(\"[MASK]\", rstrip=False, lstrip=False, single_word=False, normalized=False, special=True),\n",
       "}"
      ]
     },
     "execution_count": 3,
     "metadata": {},
     "output_type": "execute_result"
    }
   ],
   "source": [
    "from transformers import BertTokenizer\n",
    "\n",
    "# get pre-trained tokenizer model\n",
    "tokenizer = BertTokenizer.from_pretrained('./pretrained/bert-base-uncased')\n",
    "\n",
    "tokenizer"
   ]
  },
  {
   "cell_type": "code",
   "execution_count": 4,
   "metadata": {},
   "outputs": [
    {
     "name": "stdout",
     "output_type": "stream",
     "text": [
      "torch.Size([185659, 512])\n"
     ]
    }
   ],
   "source": [
    "max_length = 512\n",
    "\n",
    "tokenized = tokenizer(X, padding=True, truncation=True, max_length=max_length, return_tensors='pt')\n",
    "\n",
    "sen_ids = tokenized['input_ids']\n",
    "\n",
    "print(sen_ids.size())"
   ]
  },
  {
   "cell_type": "markdown",
   "metadata": {},
   "source": [
    "### Word embedding"
   ]
  },
  {
   "cell_type": "code",
   "execution_count": 5,
   "metadata": {},
   "outputs": [
    {
     "data": {
      "text/plain": [
       "BertEmbeddings(\n",
       "  (word_embeddings): Embedding(30522, 8, padding_idx=0)\n",
       "  (position_embeddings): Embedding(512, 8)\n",
       "  (token_type_embeddings): Embedding(2, 8)\n",
       "  (LayerNorm): LayerNorm((8,), eps=1e-12, elementwise_affine=True)\n",
       "  (dropout): Dropout(p=0.1, inplace=False)\n",
       ")"
      ]
     },
     "execution_count": 5,
     "metadata": {},
     "output_type": "execute_result"
    }
   ],
   "source": [
    "from transformers.models.bert.modeling_bert import BertEmbeddings\n",
    "from transformers import AutoConfig\n",
    "\n",
    "config = AutoConfig.from_pretrained('./pretrained/bert-base-uncased')\n",
    "config.hidden_size = 8\n",
    "bert_embedding = BertEmbeddings(config)\n",
    "\n",
    "bert_embedding"
   ]
  },
  {
   "cell_type": "code",
   "execution_count": 6,
   "metadata": {},
   "outputs": [],
   "source": [
    "embedded = bert_embedding(sen_ids)"
   ]
  },
  {
   "cell_type": "code",
   "execution_count": 7,
   "metadata": {},
   "outputs": [
    {
     "data": {
      "text/plain": [
       "torch.Size([185659, 4096])"
      ]
     },
     "execution_count": 7,
     "metadata": {},
     "output_type": "execute_result"
    }
   ],
   "source": [
    "embedded = embedded.view(len(embedded), -1)\n",
    "\n",
    "embedded.size()"
   ]
  },
  {
   "cell_type": "code",
   "execution_count": 8,
   "metadata": {},
   "outputs": [
    {
     "data": {
      "text/plain": [
       "33"
      ]
     },
     "execution_count": 8,
     "metadata": {},
     "output_type": "execute_result"
    }
   ],
   "source": [
    "del tokenized\n",
    "del sen_ids\n",
    "del X\n",
    "del Y\n",
    "del df\n",
    "\n",
    "import gc\n",
    "gc.collect()"
   ]
  },
  {
   "cell_type": "markdown",
   "metadata": {},
   "source": [
    "## Building the baseline model\n",
    "\n",
    "For testing purposes, we will use the Logistic Regression classifier `LogisticRegression()` with its default settings as our baseline model."
   ]
  },
  {
   "cell_type": "code",
   "execution_count": 9,
   "metadata": {},
   "outputs": [],
   "source": [
    "from sklearn.linear_model import LogisticRegression\n",
    "\n",
    "clf = LogisticRegression(max_iter=10000)"
   ]
  },
  {
   "cell_type": "markdown",
   "metadata": {},
   "source": [
    "## Evaluating the Baseline Model\n",
    "\n",
    "### 5-fold Stratified Cross-validation"
   ]
  },
  {
   "cell_type": "code",
   "execution_count": 10,
   "metadata": {},
   "outputs": [
    {
     "name": "stdout",
     "output_type": "stream",
     "text": [
      "[557]\n",
      "Time:  1\n",
      "\taccuracy_score:  0.7721372401163417\n",
      "\trecall_score:  0.7446831421956603\n",
      "\tprecision_score:  0.7880911680911681\n",
      "\tf1_score:  0.7657724995155439\n",
      "[896]\n",
      "Time:  2\n",
      "\taccuracy_score:  0.7724334805558548\n",
      "\trecall_score:  0.7454232177471463\n",
      "\tprecision_score:  0.7881134008880792\n",
      "\tf1_score:  0.7661741103547512\n",
      "[1106]\n",
      "Time:  3\n",
      "\taccuracy_score:  0.7718679306258752\n",
      "\trecall_score:  0.7424617704070644\n",
      "\tprecision_score:  0.7889798020255192\n",
      "\tf1_score:  0.7650142861105718\n",
      "[891]\n",
      "Time:  4\n",
      "\taccuracy_score:  0.7715716901863622\n",
      "\trecall_score:  0.7404695240146457\n",
      "\tprecision_score:  0.7897094291949006\n",
      "\tf1_score:  0.7642972266992719\n",
      "[947]\n",
      "Time:  5\n",
      "\taccuracy_score:  0.7726428052031995\n",
      "\trecall_score:  0.7420848589274176\n",
      "\tprecision_score:  0.7905242629344958\n",
      "\tf1_score:  0.7655390768205299\n"
     ]
    }
   ],
   "source": [
    "from sklearn.model_selection import StratifiedKFold\n",
    "from sklearn.metrics import accuracy_score, recall_score, precision_score, f1_score\n",
    "\n",
    "skfolds = StratifiedKFold(n_splits=5, shuffle=True, random_state=60)\n",
    "accuracy_score_list, recall_score_list, precision_score_list, f1_score_list = [], [], [], []\n",
    "\n",
    "for time, (train_index, test_index) in enumerate(skfolds.split(embedded, labels)):\n",
    "    X_train, X_test = embedded[train_index].detach().numpy(), embedded[test_index].detach().numpy()\n",
    "    Y_train, Y_test = labels[train_index], labels[test_index]\n",
    "\n",
    "    clf.fit(X_train, Y_train)\n",
    "    y_pred = clf.predict(X_test)\n",
    "    print(clf.n_iter_)\n",
    "\n",
    "    # Evaluate model\n",
    "    AccuracyScore = accuracy_score(Y_test, y_pred)\n",
    "    RecallScore = recall_score(Y_test, y_pred)\n",
    "    PrecisionScore = precision_score(Y_test, y_pred)\n",
    "    F1Score = f1_score(Y_test, y_pred)\n",
    "\n",
    "    # Add to lists\n",
    "    accuracy_score_list.append(AccuracyScore)\n",
    "    recall_score_list.append(RecallScore)\n",
    "    precision_score_list.append(PrecisionScore)\n",
    "    f1_score_list.append(F1Score)\n",
    "\n",
    "    # Print the matrix\n",
    "    print('Time: ', time + 1)\n",
    "    print('\\taccuracy_score: ', AccuracyScore)\n",
    "    print('\\trecall_score: ', RecallScore)\n",
    "    print('\\tprecision_score: ', PrecisionScore)\n",
    "    print('\\tf1_score: ', F1Score)"
   ]
  },
  {
   "cell_type": "code",
   "execution_count": 11,
   "metadata": {},
   "outputs": [
    {
     "name": "stdout",
     "output_type": "stream",
     "text": [
      "Accuracy: 77.21%\n",
      "Recall: 74.30%\n",
      "Precision: 78.91%\n",
      "F1_score: 76.54%\n"
     ]
    }
   ],
   "source": [
    "import numpy as np\n",
    "\n",
    "# Print the average value of each matrix\n",
    "print(\"Accuracy: {:.2%}\".format(np.average(accuracy_score_list)))\n",
    "print(\"Recall: {:.2%}\".format(np.average(recall_score_list)))\n",
    "print(\"Precision: {:.2%}\".format(np.average(precision_score_list)))\n",
    "print(\"F1_score: {:.2%}\".format(np.average(f1_score_list)))"
   ]
  },
  {
   "cell_type": "markdown",
   "metadata": {},
   "source": [
    "## Save the model"
   ]
  },
  {
   "cell_type": "code",
   "execution_count": 12,
   "metadata": {},
   "outputs": [
    {
     "name": "stdout",
     "output_type": "stream",
     "text": [
      "[649]\n"
     ]
    }
   ],
   "source": [
    "import pickle\n",
    "\n",
    "clf.fit(embedded.detach().numpy(), labels)\n",
    "print(clf.n_iter_)\n",
    "\n",
    "with open('./model/LR_bert.pickle', 'wb') as f:\n",
    "    pickle.dump(clf, f)"
   ]
  },
  {
   "cell_type": "markdown",
   "metadata": {},
   "source": [
    "using code below to load the fitted model:\n",
    "\n",
    "``` python\n",
    "with open('./model/LR_bert.pickle', 'rb') as f:\n",
    "    clf = pickle.load(f)\n",
    "```"
   ]
  }
 ],
 "metadata": {
  "kernelspec": {
   "display_name": "DA",
   "language": "python",
   "name": "python3"
  },
  "language_info": {
   "codemirror_mode": {
    "name": "ipython",
    "version": 3
   },
   "file_extension": ".py",
   "mimetype": "text/x-python",
   "name": "python",
   "nbconvert_exporter": "python",
   "pygments_lexer": "ipython3",
   "version": "3.9.18"
  }
 },
 "nbformat": 4,
 "nbformat_minor": 2
}
